{
 "cells": [
  {
   "cell_type": "markdown",
   "id": "058200a3-1836-4e3c-8036-05d0ced050a3",
   "metadata": {},
   "source": [
    "# Contrôle TP D\n",
    "A l’issue de l’évaluation, vous devez déposer le notebook, sous le nom **contDnomprenom.ipynb** dans **dépôt évaluation TP**"
   ]
  },
  {
   "cell_type": "markdown",
   "id": "05309243-f5da-47ca-a6b7-994694b55223",
   "metadata": {},
   "source": [
    "*Source des données : Paulo Cortez, Université du Minho, Guimarães, Portugal, http://www3.dsi.uminho.pt/pcortez*  \n",
    "\n",
    "**Fichier : donneesD.csv**  \n",
    "Ces données portent sur les résultats des élèves de l'enseignement secondaire de deux écoles portugaises. Les variables que nous avons retenues dans ce fichier (les colonnes, dans le fichier, ne respectent pas forcément le même ordre):\n",
    "* **sexe** : sexe de l'élève (binaire : 'F' - femme ou 'M' - homme)\n",
    "* **age** : âge de l'étudiant (numérique : de 15 à 22)\n",
    "* **Medu** : niveau d'éducation de la mère (numérique : 0 - aucun, 1 - enseignement primaire, 2 – Collège, 3 – Lycée ou 4 – enseignement supérieur) \n",
    "* **Pedu** : éducation du père (numérique : 0 - aucun, 1 - enseignement primaire, 2 – Collège, 3 – Lycée ou 4 – enseignement supérieur)\n",
    "* **tempstrajet** :  temps de trajet domicile-école (numérique : 1 - <15 min., 2 - 15 à 30 min., 3 - 30 min. à 1 heure ou 4 - >1 heure)\n",
    "* **tempsetude** : temps d'étude hebdomadaire (numérique : 1 - <2 heures, 2 - 2 à 5 heures, 3 - 5 à 10 heures ou 4 - >10 heures)\n",
    "* **redoublement** : nombre de redoublements antérieurs (numérique : n si 1<=n<3, sinon 4)\n",
    "* **courspart** : l’élève bénéficie de cours particuliers (binaire : oui ou non)\n",
    "* **activites** : activités extrascolaires (binaire : oui ou non)\n",
    "* **famrel** : qualité des relations familiales (numérique : de 1 - très mauvaise à 5 - excellente)\n",
    "* **sante** : état de santé actuel (numérique : de 1 - très mauvais à 5 - très bon)\n",
    "* **absences** : nombre d'absences scolaires (numérique : de 0 à 93)\n",
    "* **note1** : note de première période (numérique : de 0 à 20) \n",
    "* **note2** : note de deuxième période (numérique : de 0 à 20) \n",
    "* **resultat** : validation du cours (validé ou pas validé)\n",
    "  \n",
    "Nous allons, à partir de ces données, construire des arbres de décision/régression. \n",
    "IMPORTANT :\n",
    "Les variables cibles sont **note1**, **note2** et **resultat**.\n",
    "Les variables explicatives sont les autres variables.  \n",
    "**Remarque :** les variables **note1, note2** et **resultat** ne doivent pas être utilisées comme **variables explicatives**\n"
   ]
  },
  {
   "cell_type": "markdown",
   "id": "d6f68e0a-07e4-47bd-969c-8246927f108e",
   "metadata": {},
   "source": [
    "# Arbre de régression\n",
    "**Importer les données sous Python et construire un arbre de régression, la variable cible étant la variable note2.** "
   ]
  },
  {
   "cell_type": "code",
   "execution_count": null,
   "id": "46b3ad2d-9f71-4b5e-9eb1-67d4008d1786",
   "metadata": {},
   "outputs": [],
   "source": []
  },
  {
   "cell_type": "markdown",
   "id": "76df0b0a-f107-48c1-b8c3-22c51f706863",
   "metadata": {},
   "source": [
    "# Arbre de décision\n",
    "Nous travaillons sur les mêmes données.  \n",
    "Importer les données sous Python (si vous ne l’avez pas déjà fait) et construire un arbre de décision, la variable cible étant la variable **resultat**. "
   ]
  },
  {
   "cell_type": "code",
   "execution_count": null,
   "id": "03a46511-6b79-472b-92ab-ebf0e4a2aa68",
   "metadata": {},
   "outputs": [],
   "source": []
  },
  {
   "cell_type": "markdown",
   "id": "82cb63d3-d711-431b-bcb3-ea792d76c7e6",
   "metadata": {},
   "source": [
    "Vérifiez les valeurs obtenues sur les trois premiers nœuds de l’arbre : "
   ]
  },
  {
   "cell_type": "code",
   "execution_count": null,
   "id": "a135c31a-cd4e-4846-a184-17f14746b860",
   "metadata": {},
   "outputs": [],
   "source": []
  },
  {
   "cell_type": "markdown",
   "id": "08ce0a4c-b7da-495c-ae47-8f2fb1f7bef9",
   "metadata": {},
   "source": [
    "Calculer le **gain de pureté de Gini** associé à cette première division"
   ]
  },
  {
   "cell_type": "code",
   "execution_count": null,
   "id": "2bb65f1c-854f-4b58-81e1-500bff833d86",
   "metadata": {},
   "outputs": [],
   "source": []
  }
 ],
 "metadata": {
  "kernelspec": {
   "display_name": "Python 3 (Spyder)",
   "language": "python3",
   "name": "python3"
  },
  "language_info": {
   "codemirror_mode": {
    "name": "ipython",
    "version": 3
   },
   "file_extension": ".py",
   "mimetype": "text/x-python",
   "name": "python",
   "nbconvert_exporter": "python",
   "pygments_lexer": "ipython3",
   "version": "3.8.10"
  }
 },
 "nbformat": 4,
 "nbformat_minor": 5
}
